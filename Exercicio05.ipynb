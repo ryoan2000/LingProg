{
 "cells": [
  {
   "cell_type": "markdown",
   "metadata": {},
   "source": [
    "1 Linha: Crie a classe Linha que tem dois atributos, coordenada1 e coordenada2.\n",
    "Cada coordenada é uma tupla que carrega duas coordenadas cartesianas (x,yg que\n",
    "denotam pontos do segmento de reta. Faça métodos que calculem o comprimento\n",
    "do segmento de reta e sua inclinação.\n"
   ]
  },
  {
   "cell_type": "code",
   "execution_count": 12,
   "metadata": {},
   "outputs": [
    {
     "name": "stdout",
     "output_type": "stream",
     "text": [
      "O comprimento da reta dada é:  5.0\n",
      "A inclinação da reta é:  0.75\n"
     ]
    }
   ],
   "source": [
    "class Linha:  \n",
    "  def calcular_distancia(coordenada1, coordenada2):\n",
    "    n1 = (coordenada1[0] - coordenada2[0])**2\n",
    "    n2 = (coordenada1[1] - coordenada2[1])**2\n",
    "    n3 = n1 + n2\n",
    "    resultado = n3 ** (1/2)\n",
    "    print('O comprimento da reta dada é: ', resultado)\n",
    "  calcular_distancia((6,4), (2,1))\n",
    "\n",
    "  def calcular_inclinacao(coordenada1, coordenada2):\n",
    "    n1 = coordenada2[1] - coordenada1[1]\n",
    "    n2 = coordenada2[0] - coordenada1[0]\n",
    "    resultado = n1/n2\n",
    "    print('A inclinação da reta é: ', resultado )\n",
    "\n",
    "  calcular_inclinacao((6,4), (2,1))"
   ]
  }
 ],
 "metadata": {
  "kernelspec": {
   "display_name": "Python 3",
   "language": "python",
   "name": "python3"
  },
  "language_info": {
   "codemirror_mode": {
    "name": "ipython",
    "version": 3
   },
   "file_extension": ".py",
   "mimetype": "text/x-python",
   "name": "python",
   "nbconvert_exporter": "python",
   "pygments_lexer": "ipython3",
   "version": "3.6.5"
  }
 },
 "nbformat": 4,
 "nbformat_minor": 2
}
