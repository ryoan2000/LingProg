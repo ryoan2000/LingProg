{
 "cells": [
  {
   "cell_type": "markdown",
   "metadata": {},
   "source": [
    "1 Faça um Programa que peça o raio de um círculo, calcule e\n",
    "mostre sua área."
   ]
  },
  {
   "cell_type": "code",
   "execution_count": 17,
   "metadata": {},
   "outputs": [
    {
     "name": "stdout",
     "output_type": "stream",
     "text": [
      "Digite um raio: 10\n",
      "314.1592653589793\n"
     ]
    }
   ],
   "source": [
    "import math\n",
    "raio = input('Digite um raio: ')\n",
    "x = float(raio);\n",
    "print(math.pi * x**2)"
   ]
  },
  {
   "cell_type": "markdown",
   "metadata": {},
   "source": [
    "2 Faça um Programa que calcule a área de um quadrado, em\n",
    "seguida mostre o dobro desta área para o usuário."
   ]
  },
  {
   "cell_type": "code",
   "execution_count": 20,
   "metadata": {},
   "outputs": [
    {
     "name": "stdout",
     "output_type": "stream",
     "text": [
      "Digite o lado do quadrado10\n",
      "A área do quadrado é:  100.0\n",
      "O dobro da área é:  200.0\n"
     ]
    }
   ],
   "source": [
    "lado = input('Digite o lado do quadrado: ')\n",
    "area = float(lado)**2\n",
    "print('A área do quadrado é: ', area)\n",
    "print('O dobro da área é: ', area*2)"
   ]
  },
  {
   "cell_type": "markdown",
   "metadata": {},
   "source": [
    "3 Faça um Programa que pergunte quanto você ganha por hora e o\n",
    "número de horas trabalhadas no mês. Calcule e mostre o total do\n",
    "seu salário no referido mês."
   ]
  },
  {
   "cell_type": "code",
   "execution_count": 21,
   "metadata": {
    "scrolled": true
   },
   "outputs": [
    {
     "name": "stdout",
     "output_type": "stream",
     "text": [
      "Quanto você ganha por hora? 1000\n",
      "Quantas horas você trabalha por mês? 150\n",
      "Você receberá  150000  no final do mês\n"
     ]
    }
   ],
   "source": [
    "pag_hora = input('Quanto você ganha por hora? ')\n",
    "pagamento = int(pag_hora)\n",
    "num_hr_mes = input('Quantas horas você trabalha por mês? ')\n",
    "horas = int(num_hr_mes)\n",
    "total_mes = pagamento * horas\n",
    "print('Você receberá ', total_mes, ' no final do mês')"
   ]
  },
  {
   "cell_type": "markdown",
   "metadata": {},
   "source": [
    "4 Faça um Programa que peça a temperatura em graus Fahrenheit,\n",
    "transforme e mostre a temperatura em graus Celsius. C = (5 * (F-32/ 8).\n"
   ]
  },
  {
   "cell_type": "code",
   "execution_count": 27,
   "metadata": {},
   "outputs": [
    {
     "name": "stdout",
     "output_type": "stream",
     "text": [
      "Digite uma temperatura em Farenheit 120\n",
      "A temperatura em Celcius é: 48.88888888888889\n"
     ]
    }
   ],
   "source": [
    "temp_far = input('Digite uma temperatura em Fahrenheit ')\n",
    "temperatura = float(temp_far)\n",
    "celcius = 5 * ((temperatura-32)/9)\n",
    "print('A temperatura em Celcius é:', celcius)"
   ]
  },
  {
   "cell_type": "markdown",
   "metadata": {},
   "source": [
    "5 Faça um Programa que peça a temperatura em graus Celsius,\n",
    "transforme e mostre em graus Farenheit."
   ]
  },
  {
   "cell_type": "code",
   "execution_count": 32,
   "metadata": {},
   "outputs": [
    {
     "name": "stdout",
     "output_type": "stream",
     "text": [
      "Digite uma temperatura em Celcius50\n",
      "A temperatura em Fahrenheit é:  122.0\n"
     ]
    }
   ],
   "source": [
    "temp_cel = input('Digite uma temperatura em Celcius')\n",
    "temperatura = float(temp_cel)\n",
    "fahr = temperatura * 1.8 + 32\n",
    "print('A temperatura em Fahrenheit é: ', fahr)"
   ]
  },
  {
   "cell_type": "markdown",
   "metadata": {},
   "source": [
    "6 Faça um Programa que peça 2 números inteiros e um número\n",
    "real. Calcule e mostre:\n",
    "- o produto do dobro do primeiro com metade do segundo .\n",
    "- a soma do triplo do primeiro com o terceiro.\n",
    "- o terceiro elevado ao cubo."
   ]
  },
  {
   "cell_type": "code",
   "execution_count": 38,
   "metadata": {},
   "outputs": [
    {
     "name": "stdout",
     "output_type": "stream",
     "text": [
      "Digite um número inteiro: 10\n",
      "Digite outro número inteiro: 15\n",
      "Digite um número real: 3\n",
      "O produto do dobro do primeiro com metade do segundo:  27.5\n",
      "A soma do triplo do primeiro com o terceiro:  33.0\n",
      "O terceiro elevado ao cubo:  27.0\n"
     ]
    }
   ],
   "source": [
    "num_1 = input('Digite um número inteiro: ')\n",
    "num_2 = input('Digite outro número inteiro: ')\n",
    "num_real = input('Digite um número real: ')\n",
    "numero1 = int(num_1)\n",
    "numero2 = int(num_2)\n",
    "numero_real = float(num_real)\n",
    "pri_op = (numero1 * 2) + (numero2 / 2)\n",
    "seg_op = (numero1 * 3) + numero_real\n",
    "ter_op = numero_real ** 3\n",
    "print('O produto do dobro do primeiro com metade do segundo: ', pri_op)\n",
    "print('A soma do triplo do primeiro com o terceiro: ', seg_op)\n",
    "print('O terceiro elevado ao cubo: ', ter_op)"
   ]
  },
  {
   "cell_type": "markdown",
   "metadata": {},
   "source": [
    "7 João Papo-de-Pescador, homem de bem, comprou um\n",
    "microcomputador para controlar o rendimento diário de seu\n",
    "trabalho. Toda vez que ele traz um peso de peixes maior que o\n",
    "estabelecido pelo regulamento de pesca do estado de São Paulo (50\n",
    "quilos) deve pagar uma multa de R$ 4,00 por quilo excedente. João\n",
    "precisa que você faça um programa que leia a variável peso (peso\n",
    "de peixes) e verifque se há excesso. Se houver, gravar na variável\n",
    "excesso e na variável multa o valor da multa que João deverá pagar.\n",
    "Caso contrário mostrar tais variáveis com o conteúdo ZERO."
   ]
  },
  {
   "cell_type": "code",
   "execution_count": 41,
   "metadata": {},
   "outputs": [
    {
     "name": "stdout",
     "output_type": "stream",
     "text": [
      "Digite o peso do seu peixe: 55\n",
      "O seu peixe está  5.0 kgs acima do permitido, você deverá pagar  20.0  em multas\n"
     ]
    }
   ],
   "source": [
    "peso_peixe = input('Digite o peso do seu peixe: ')\n",
    "peso = float(peso_peixe)\n",
    "if peso > 50:\n",
    "    excesso = peso - 50\n",
    "    multa = 4 * excesso\n",
    "    print('O seu peixe está ', excesso, 'kgs acima do permitido, você deverá pagar ', multa, ' em multas')\n",
    "else:\n",
    "    print('O seu peixe está com um peso permitido')\n",
    "    excesso = 0\n",
    "    multa = 0\n",
    "    print('Excesso: ', excesso)\n",
    "    print('Multa: ', multa)\n",
    "    "
   ]
  },
  {
   "cell_type": "markdown",
   "metadata": {},
   "source": [
    "8 Faça um Programa que pergunte quanto você ganha por hora e o\n",
    "número de horas trabalhadas no mês. Calcule e mostre o total do\n",
    "seu salário no referido mês, sabendo-se que são descontados 11%\n",
    "para o Imposto de Renda, 8% para o INSS e 5% para o sindicato,\n",
    "faça um programa que nos dê:\n",
    "- salário bruto.\n",
    "- quanto pagou ao INSS.\n",
    "- quanto pagou ao sindicato.\n",
    "- o salário líquido.\n",
    "- calcule os descontos e o salário líquido, conforme a tabela abaixo:\n",
    " + Salário Bruto : R$\n",
    " - IR (11%8 : R$\n",
    " - INSS (8%8 : R$\n",
    " - Sindicato ( 5%8 : R$\n",
    " = Salário Liquido : R$\n",
    "Obs.: Salário Bruto - Descontos = Salário Líquido."
   ]
  },
  {
   "cell_type": "code",
   "execution_count": 44,
   "metadata": {},
   "outputs": [
    {
     "name": "stdout",
     "output_type": "stream",
     "text": [
      "Quanto você ganha por hora? 150\n",
      "Quantas horas você trabalha por mês 330\n",
      "O seu salário bruto:  49500.0\n",
      "O desconto da IR:  3960.0\n",
      "O desconto do INSS:  5445.0\n",
      "O desconto do Sindicato:  2475.0\n",
      "O total dos descontos foi:  11880.0\n",
      "O seu salário líquido é:  37620.0\n"
     ]
    }
   ],
   "source": [
    "sal_hora = input('Quanto você ganha por hora? ')\n",
    "mes_horas = input('Quantas horas você trabalha por mês ')\n",
    "salario = float(sal_hora)\n",
    "horas = int(mes_horas)\n",
    "salario_bruto = salario * horas\n",
    "inss = salario_bruto * 0.11\n",
    "sindicato = salario_bruto * 0.05\n",
    "ir = salario_bruto * 0.08\n",
    "descontos = inss + sindicato + ir\n",
    "salario_liquido = salario_bruto - descontos\n",
    "print('O seu salário bruto: ', salario_bruto)\n",
    "print('O desconto da IR: ', ir)\n",
    "print('O desconto do INSS: ', inss)\n",
    "print('O desconto do Sindicato: ', sindicato)\n",
    "print('O total dos descontos foi: ', descontos)\n",
    "print('O seu salário líquido é: ', salario_liquido)"
   ]
  },
  {
   "cell_type": "markdown",
   "metadata": {},
   "source": [
    "9 Faça um programa que leia 2 strings e informe o conteúdo delas\n",
    "seguido do seu comprimento. Informe também se as duas strings\n",
    "possuem o mesmo comprimento e são iguais ou diferentes no\n",
    "conteúdo."
   ]
  },
  {
   "cell_type": "code",
   "execution_count": 52,
   "metadata": {},
   "outputs": [
    {
     "name": "stdout",
     "output_type": "stream",
     "text": [
      "Digite uma palavra: Mundo\n",
      "Digite outra palavra: Oloto\n",
      "Você digitou {{ Mundo }} e {{ Oloto }}\n",
      "Tamanho de  Mundo :  5  caracteres\n",
      "Tamanho de  Oloto :  5  caracteres\n",
      "As palavras possuem o mesmo tamanho\n",
      "Você digitou palavras diferentes\n"
     ]
    }
   ],
   "source": [
    "pri_string = input('Digite uma palavra: ')\n",
    "seg_string = input('Digite outra palavra: ')\n",
    "tamanho1 = len(pri_string)\n",
    "tamanho2 = len(seg_string)\n",
    "print('Você digitou {{', pri_string, '}} e {{', seg_string, '}}')\n",
    "print('Tamanho de ', pri_string, ': ', tamanho1, ' caracteres')\n",
    "print('Tamanho de ', seg_string, ': ', tamanho2, ' caracteres')\n",
    "if tamanho1 == tamanho2:\n",
    "    print('As palavras possuem o mesmo tamanho')\n",
    "else:\n",
    "    print('As palavras possuem tamanhos diferentes')\n",
    "if pri_string == seg_string:\n",
    "    print('Você digitou duas palavras iguais')\n",
    "else:\n",
    "    print('Você digitou palavras diferentes')"
   ]
  },
  {
   "cell_type": "markdown",
   "metadata": {},
   "source": [
    "10 Faça um programa que permita ao usuário digitar o seu nome e\n",
    "em seguida mostre o nome do usuário de trás para frente utilizando\n",
    "somente letras maiúsculas. Dica: lembre−se que ao informar o\n",
    "nome o usuário pode digitar letras maiúsculas ou minúsculas."
   ]
  },
  {
   "cell_type": "code",
   "execution_count": 54,
   "metadata": {},
   "outputs": [
    {
     "name": "stdout",
     "output_type": "stream",
     "text": [
      "Digite o seu nomeLeonardo\n",
      "O seu nome escrito de tras para frente fica:  ODRANOEL\n"
     ]
    }
   ],
   "source": [
    "nome = input('Digite o seu nome')\n",
    "nome_maiusculo = nome.upper()\n",
    "nome_detras = nome_maiusculo[::-1]\n",
    "print('O seu nome escrito de tras para frente fica: ', nome_detras)"
   ]
  },
  {
   "cell_type": "markdown",
   "metadata": {},
   "source": [
    "11 Faça um programa que solicite a data de nascimento\n",
    "(dd/mm/aaaa) do usuário e imprima a data com o nome do mês por\n",
    "extenso.\n",
    "Data de Nascimento: 29/10/1973\n",
    "Você nasceu em 29 de Outubro de 1973.\n",
    "Obs.: Não use desvio condicional nem loops."
   ]
  },
  {
   "cell_type": "code",
   "execution_count": 67,
   "metadata": {},
   "outputs": [
    {
     "name": "stdout",
     "output_type": "stream",
     "text": [
      "Digite a sua data de nascimento na forma dd/mm/aaaa: 23/12/1996\n",
      "Você nasceu em  23 de Dezembro de 1996\n"
     ]
    }
   ],
   "source": [
    "dat_nascimento = input('Digite a sua data de nascimento na forma dd/mm/aaaa: ')\n",
    "dia_nas = dat_nascimento[0:2]\n",
    "mes_nas = dat_nascimento[3:5]\n",
    "ano_nas = dat_nascimento[6:10]\n",
    "meses = ['Janeiro', 'Fevereiro', 'Março', 'Abril', 'Maio', 'Junho', 'Julho', 'Agosto', 'Setembro', 'Outubro', 'Novembro', \n",
    "'Dezembro']\n",
    "print('Você nasceu em ', dia_nas, 'de', meses[int(mes_nas)-1], 'de', ano_nas)\n"
   ]
  },
  {
   "cell_type": "markdown",
   "metadata": {},
   "source": [
    "12 Leet é uma forma de se escrever o alfabeto latino usando outros\n",
    "símbolos em lugar das letras, como números por exemplo. A própria\n",
    "palavra leet admite muitas variações, como l33t ou 1337. O uso do\n",
    "leet reflete uma subcultura relacionada ao mundo dos jogos de\n",
    "computador e internet, sendo muito usada para confundir os\n",
    "iniciantes e afrmar-se como parte de um grupo. Pesquise sobre as\n",
    "principais formas de traduzir as letras. Depois, faça um programa\n",
    "que peça uma texto e transforme-o para a grafa leet speak.\n",
    "Desafo: não use loops nem desvios condicionais."
   ]
  },
  {
   "cell_type": "code",
   "execution_count": 90,
   "metadata": {},
   "outputs": [
    {
     "name": "stdout",
     "output_type": "stream",
     "text": [
      "Digite alguma coisa: lala\n",
      "A palavra [[ lala ]] virou: [[ |_4|_4 ]] em leet.\n"
     ]
    }
   ],
   "source": [
    "texto = input('Digite alguma coisa: ')\n",
    "lower = texto.lower()\n",
    "n1 = lower.replace('a', '4')\n",
    "n2 = n1.replace('b', '8')\n",
    "n3 = n2.replace('c', '(')\n",
    "n4 = n3.replace('d', '|>')\n",
    "n5 = n4.replace('e', '3')\n",
    "n6 = n5.replace('f', 'ph')\n",
    "n7 = n6.replace('g', '9')\n",
    "n8 = n7.replace('h', '|-|')\n",
    "n9 = n8.replace('i', '][')\n",
    "n10 = n9.replace('j', '_|')\n",
    "n11 = n10.replace('k', '|{')\n",
    "n12 = n11.replace('l', '|_')\n",
    "n13 = n12.replace('m', '|\\/|')\n",
    "n14 = n13.replace('n', '|\\|')\n",
    "n15 = n14.replace('o', '0')\n",
    "n16 = n15.replace('p', '|2')\n",
    "n17 = n16.replace('q', 'kw')\n",
    "n18 = n17.replace('r', '|Z')\n",
    "n19 = n18.replace('s', '$')\n",
    "n20 = n19.replace('t', '+')\n",
    "n21 = n20.replace('u', '|_|')\n",
    "n22 = n21.replace('v', '\\/')\n",
    "n23 = n22.replace('w', '\\/\\/')\n",
    "n24 = n23.replace('x', '><')\n",
    "n25 = n24.replace('y', '`/')\n",
    "n26 = n25.replace('z', '2')\n",
    "print(\"A palavra [[\", texto, ']] virou: [[', n26, ']] em leet.')"
   ]
  },
  {
   "cell_type": "code",
   "execution_count": null,
   "metadata": {},
   "outputs": [],
   "source": []
  }
 ],
 "metadata": {
  "kernelspec": {
   "display_name": "Python 3",
   "language": "python",
   "name": "python3"
  },
  "language_info": {
   "codemirror_mode": {
    "name": "ipython",
    "version": 3
   },
   "file_extension": ".py",
   "mimetype": "text/x-python",
   "name": "python",
   "nbconvert_exporter": "python",
   "pygments_lexer": "ipython3",
   "version": "3.6.5"
  }
 },
 "nbformat": 4,
 "nbformat_minor": 2
}
