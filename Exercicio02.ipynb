{
 "cells": [
  {
   "cell_type": "markdown",
   "metadata": {},
   "source": [
    "1 Crie um programa que recebe uma lista de números e\n",
    "- retorne o maior elemento\n",
    "- retorne a soma dos elementos\n",
    "- retorne o número de ocorrências do primeiro elemento da lista\n",
    "- retorne a média dos elementos\n",
    "- retorne o valor mais próximo da média dos elementos\n",
    "- retorne a soma dos elementos com valor negativo\n",
    "- retorne a quantidade de vizinhos iguais"
   ]
  },
  {
   "cell_type": "code",
   "execution_count": 18,
   "metadata": {},
   "outputs": [
    {
     "name": "stdout",
     "output_type": "stream",
     "text": [
      "Digite um número: 1\n",
      "Digite um número: 2\n",
      "Digite um número: 3\n",
      "O maior número da lista é:  3\n",
      "A soma dos números da lista é:  6\n",
      "O primeiro número da lista occore... 1  vezes\n",
      "A média dos números da lista é:  2.0\n",
      "O número mais próximo da média da lista é:  2\n",
      "A soma dos valores com valor negativo é:  -6\n"
     ]
    }
   ],
   "source": [
    "lista = [int(input('Digite um número: '))]\n",
    "while len(lista) < 3:\n",
    "    lista += [int(input('Digite um número: '))]\n",
    "mr_lst = max(lista)\n",
    "sum_lst = sum(lista)\n",
    "cnt_lst = lista.count(lista[0])\n",
    "mda_lst = sum(lista) / len(lista)\n",
    "pgr_proximo = lambda num,colecao:min(colecao,key=lambda x:abs(x-num))\n",
    "print(\"O maior número da lista é: \", mr_lst)\n",
    "print(\"A soma dos números da lista é: \", sum_lst)\n",
    "print(\"O primeiro número da lista occore...\", cnt_lst, \" vezes\")\n",
    "print('A média dos números da lista é: ', mda_lst)\n",
    "print('O número mais próximo da média da lista é: ', pgr_proximo(sum(lista) / len(lista), lista))\n",
    "print('A soma dos valores com valor negativo é: ', sum(lista) * -1)\n"
   ]
  },
  {
   "cell_type": "markdown",
   "metadata": {},
   "source": [
    "2 Faça um programa que receba duas listas e retorne True se são\n",
    "iguais ou False caso contrario.\n",
    "Duas listas são iguais se possuem os mesmos valores e na mesma\n",
    "ordem."
   ]
  },
  {
   "cell_type": "code",
   "execution_count": 30,
   "metadata": {
    "scrolled": true
   },
   "outputs": [
    {
     "name": "stdout",
     "output_type": "stream",
     "text": [
      "Digite sua primeira lista: Ma\n",
      "Digite sua primeira lista: ma\n",
      "Digite sua primeira lista: ma\n",
      "Digite sua segunda lista: Ma\n",
      "Digite sua segunda lista: ma\n",
      "Digite sua segunda lista: ma\n",
      "As listas são iguais\n"
     ]
    },
    {
     "data": {
      "text/plain": [
       "['Ma', 'ma', 'ma']"
      ]
     },
     "execution_count": 30,
     "metadata": {},
     "output_type": "execute_result"
    }
   ],
   "source": [
    "lst1 = [input('Digite sua primeira lista: ')]\n",
    "while len(lst1) < 3:\n",
    "    lst1 += [input('Digite sua primeira lista: ')]\n",
    "lst2 = [input('Digite sua segunda lista: ')]\n",
    "while len(lst2) < 3:\n",
    "    lst2 += [input('Digite sua segunda lista: ')]\n",
    "if lst1 == lst2:\n",
    "    print('True')\n",
    "else:\n",
    "    print('False')"
   ]
  },
  {
   "cell_type": "markdown",
   "metadata": {},
   "source": []
  }
 ],
 "metadata": {
  "kernelspec": {
   "display_name": "Python 3",
   "language": "python",
   "name": "python3"
  },
  "language_info": {
   "codemirror_mode": {
    "name": "ipython",
    "version": 3
   },
   "file_extension": ".py",
   "mimetype": "text/x-python",
   "name": "python",
   "nbconvert_exporter": "python",
   "pygments_lexer": "ipython3",
   "version": "3.6.5"
  }
 },
 "nbformat": 4,
 "nbformat_minor": 2
}
