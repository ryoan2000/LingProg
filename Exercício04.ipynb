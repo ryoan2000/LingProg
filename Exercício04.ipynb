{
 "cells": [
  {
   "cell_type": "markdown",
   "metadata": {},
   "source": [
    "1 Menor de dois pares: Escreva uma função que retorne o menor de dois números\n",
    "dados se ambos os números forem pares, mas retorna o maior se um dos dois for\n",
    "ímpar. Exemplo:\n"
   ]
  },
  {
   "cell_type": "code",
   "execution_count": 1,
   "metadata": {},
   "outputs": [
    {
     "name": "stdout",
     "output_type": "stream",
     "text": [
      "5\n"
     ]
    }
   ],
   "source": [
    "def f(a ,b):\n",
    "  if a % 2 == 0 and b % 2 == 0:\n",
    "    return min(a,b)\n",
    "  else:\n",
    "    return max(a,b)\n",
    "\n",
    "resultado = f(2,5)\n",
    "print(resultado)"
   ]
  },
  {
   "cell_type": "markdown",
   "metadata": {},
   "source": [
    "2 Mesma letra: Escreva uma função que receba uma string com duas palavras e\n",
    "retorne True se ambas palavras começarem com a mesma letra. Exemplo:"
   ]
  },
  {
   "cell_type": "code",
   "execution_count": null,
   "metadata": {},
   "outputs": [],
   "source": [
    "\n",
    "def comecam(palavra):\n",
    "    partes = palavra.split(\" \")\n",
    "    return True if partes[0][0].upper() == partes[1][0].upper() else False\n",
    "\n",
    "\n",
    "resultado = comecam(\"Cão covarde\")\n",
    "if resultado is True:\n",
    "  print(\"As palavras começam com a mesma letra\")\n",
    "else:\n",
    "  print(\"As palavras não começam com a mesma letra\")"
   ]
  },
  {
   "cell_type": "markdown",
   "metadata": {},
   "source": [
    "3 Mestre Yoda: Dada uma sentença, a função deve retornar a sentença com as\n",
    "palavras na ordem reversa. Exemplo:"
   ]
  },
  {
   "cell_type": "code",
   "execution_count": null,
   "metadata": {},
   "outputs": [],
   "source": [
    "\n",
    "def yoda(pal):\n",
    "  sent = pal\n",
    "  spl = sent.split()\n",
    "  spl.reverse()\n",
    "  jon = \" \".join(spl)\n",
    "  return jon\n",
    "resultado = yoda(\"Estou em casa\")\n",
    "print(\"String ao contrário: \", resultado)"
   ]
  },
  {
   "cell_type": "markdown",
   "metadata": {},
   "source": [
    " 4 Tem 33: Faça uma função que retorne True se, dada uma lista de inteiros, houver\n",
    "em alguma posição da lista um 3 do lado de outro 3. Exemplo:\n"
   ]
  },
  {
   "cell_type": "code",
   "execution_count": null,
   "metadata": {},
   "outputs": [],
   "source": [
    "\n",
    "def tem_33(lista):\n",
    "  status = \"Nada\"\n",
    "  for simbolo in lista:\n",
    "    if simbolo == 3:\n",
    "      if status == \"Nada\":\n",
    "        status = \"Tres\"\n",
    "      elif status == \"Tres\":\n",
    "        return True\n",
    "    else:\n",
    "      if status == \"Tres\":\n",
    "        status = \"Nada\"\n",
    "  return False\n",
    "\n",
    "\n",
    "if tem_33 ([3,3,1]) is True:\n",
    "  print(\"O seu estado possui a subpalavra 33\")\n",
    "else:\n",
    "  print(\"O seu estado não possui a subpalavra 33\")"
   ]
  },
  {
   "cell_type": "markdown",
   "metadata": {},
   "source": [
    "5 Blackjack: Faça uma função que receba 3 inteiros entre 1 e 11. Se a soma deles for\n",
    "menor que 21, retorne o valor da soma. Se for mair do que 21 e houver um 11, \n",
    "subtraia 10 da soma antes de apresentar o resultado. Se o valor da soma passar de\n",
    "21, retorne ‘ESTOUROU’. Exemplo:\n"
   ]
  },
  {
   "cell_type": "code",
   "execution_count": null,
   "metadata": {},
   "outputs": [],
   "source": [
    "\n",
    "def blackjack (a, b, c):\n",
    "  soma = a + b + c\n",
    "  if soma <= 21:\n",
    "    return soma\n",
    "  else:\n",
    "    if 11 in [a, b, c]:\n",
    "      return soma -10\n",
    "    return (\"ESTOUROU\", soma)\n",
    "\n",
    "print(blackjack(15,12,5))"
   ]
  },
  {
   "cell_type": "markdown",
   "metadata": {},
   "source": [
    "6 Espião: Escreva uma função que receba uma lista de\n",
    "inteiros e retorne True se contém um 007 em ordem, mesmo\n",
    "que não contínuo. Exemplo:\n"
   ]
  },
  {
   "cell_type": "code",
   "execution_count": null,
   "metadata": {},
   "outputs": [],
   "source": [
    "def tem_007(lis):\n",
    "  status = \"Nada\"\n",
    "  for simbolo in lis:\n",
    "    if simbolo == 0:\n",
    "      if status == \"Nada\":\n",
    "        status = \"Zero\"\n",
    "      elif status == \"Zero\":\n",
    "        status = \"ZeroZero\"\n",
    "    elif simbolo == 7:\n",
    "      if status == \"ZeroZero\":\n",
    "          return True\n",
    "    else:\n",
    "      return False\n",
    "  return False\n",
    "if tem_007([0,0,7,0]) is True:\n",
    "  print(\"Você é o 007\")\n",
    "else:\n",
    "  print(\"Você não é o 007\")"
   ]
  }
 ],
 "metadata": {
  "kernelspec": {
   "display_name": "Python 3",
   "language": "python",
   "name": "python3"
  },
  "language_info": {
   "codemirror_mode": {
    "name": "ipython",
    "version": 3
   },
   "file_extension": ".py",
   "mimetype": "text/x-python",
   "name": "python",
   "nbconvert_exporter": "python",
   "pygments_lexer": "ipython3",
   "version": "3.6.5"
  }
 },
 "nbformat": 4,
 "nbformat_minor": 2
}
