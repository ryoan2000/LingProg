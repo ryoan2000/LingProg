{
 "cells": [
  {
   "cell_type": "markdown",
   "metadata": {},
   "source": [
    "1)Faça um Programa que peça dois números e imprima o maior deles.\n"
   ]
  },
  {
   "cell_type": "code",
   "execution_count": null,
   "metadata": {},
   "outputs": [],
   "source": [
    "\n",
    "a = int(input('Digite o primeiro numero '))\n",
    "b = int(input('Digite o segundo numero '))\n",
    "lista = [a,b]\n",
    "print('O maior numero é ', max(lista))"
   ]
  },
  {
   "cell_type": "markdown",
   "metadata": {},
   "source": [
    "3)Faça um programa para a leitura de duas notas parciais de um aluno. O programa deve calcular a média alcançada por aluno e apresentar:\n"
   ]
  },
  {
   "cell_type": "code",
   "execution_count": null,
   "metadata": {},
   "outputs": [],
   "source": [
    "\n",
    "A mensagem \"Aprovado\", se a média alcançada for maior ou igual a sete;\n",
    "A mensagem \"Reprovado\", se a média for menor do que sete;\n",
    "A mensagem \"Aprovado com Distinção\", se a média for igual a dez.\n",
    "n1 = int(input('Primeira Nota: '))\n",
    "n2 = int(input('Segunda Nota: '))\n",
    "media = (n1 + n2)/2\n",
    "if media >= 7 and media < 10:\n",
    "    print('Aprovado','Nota: ', media)\n",
    "elif media < 7:\n",
    "    print('Reprovado','Nota: ', media)\n",
    "else:\n",
    "    print('Aprovado com Distinção ','Nota: ', media)"
   ]
  },
  {
   "cell_type": "markdown",
   "metadata": {},
   "source": [
    "5)As Organizações Tabajara resolveram dar um aumento de salário aos seus colaboradores e lhe contrataram para desenvolver o programa que calculará os reajustes. Faça um programa que recebe o salário de um colaborador e o reajuste segundo o seguinte critério, baseado no salário atual:\n",
    "salários até R$ 280,00 (incluindo) : aumento de 20%\n",
    "salários entre R 280,00eR  700,00 : aumento de 15%\n",
    "salários entre R 700,00eR  1500,00 : aumento de 10%\n",
    "salários de R$ 1500,00 em diante : aumento de 5% Após o aumento ser realizado, informe na tela:\n",
    "o salário antes do reajuste;\n",
    "o percentual de aumento aplicado;\n",
    "o valor do aumento;\n",
    "o novo salário, após o aumento.\n"
   ]
  },
  {
   "cell_type": "code",
   "execution_count": null,
   "metadata": {},
   "outputs": [],
   "source": [
    "\n",
    "\n",
    "salario = float(input('Digite o salario '))\n",
    "if salario <= 280.00:\n",
    "    aumento = ((salario/100)*20)\n",
    "    salarioNovo = salario + aumento\n",
    "    print('Salario antigo ', salario)\n",
    "    print('Percentual de aumento: 20%')\n",
    "    print('Valor do aumento ', aumento)\n",
    "    print('Salario novo ', salarioNovo)\n",
    "elif salario > 280.00 and salario < 700.00:\n",
    "    aumento = ((salario/100)*15)\n",
    "    salarioNovo = salario + aumento\n",
    "    print('Salario antigo ', salario)\n",
    "    print('Percentual de aumento: 15%')\n",
    "    print('Valor do aumento ', aumento)\n",
    "    print('Salario novo ', salarioNovo)\n",
    "elif salario >= 700.00 and salario < 1500.00:\n",
    "    aumento = ((salario/100)*10)\n",
    "    salarioNovo = salario + aumento\n",
    "    print('Salario antigo ', salario)\n",
    "    print('Percentual de aumento: 10%')\n",
    "    print('Valor do aumento ', aumento)\n",
    "    print('Salario novo ', salarioNovo)\n",
    "elif salario >= 1500.00:\n",
    "    aumento = ((salario/100)*5)\n",
    "    salarioNovo = salario + aumento\n",
    "    print('Salario antigo ', salario)\n",
    "    print('Percentual de aumento: 5%')\n",
    "    print('Valor do aumento ', aumento)\n",
    "    print('Salario novo ', salarioNovo)"
   ]
  },
  {
   "cell_type": "markdown",
   "metadata": {},
   "source": [
    "7)Faça um programa que lê as duas notas parciais obtidas por um aluno numa disciplina ao longo de um semestre, e calcule a sua média. A atribuição de conceitos obedece à tabela abaixo: Média de Aproveitamento Conceito Entre 9.0 e 10.0 A Entre 7.5 e 9.0 B Entre 6.0 e 7.5 C Entre 4.0 e 6.0 D Entre 4.0 e zero E O algoritmo deve mostrar na tela as notas, a média, o conceito correspondente e a mensagem “APROVADO” se o conceito for A, B ou C ou “REPROVADO” se o conceito for D ou E.\n"
   ]
  },
  {
   "cell_type": "code",
   "execution_count": null,
   "metadata": {},
   "outputs": [],
   "source": [
    "n1 = float(input('Digite a primeira nota '))\n",
    "n2 = float(input('Digite a segunda nota '))\n",
    "media = (n1 + n2)/2\n",
    "if media >= 9.0 and media <= 10:\n",
    "    print('Nota um ', n1)\n",
    "    print('Nota dois ',n2)\n",
    "    print('Média ', media)\n",
    "    print('Conceito é A')\n",
    "    print('Aprovado')\n",
    "elif media >= 7.5 and media < 9.0:\n",
    "    print('Nota um ', n1)\n",
    "    print('Nota dois ',n2)\n",
    "    print('Média ', media)\n",
    "    print('Conceito é B')\n",
    "    print('Aprovado')\n",
    "elif media >= 6.0 and media < 7.5:\n",
    "    print('Nota um ', n1)\n",
    "    print('Nota dois ',n2)\n",
    "    print('Média ', media)\n",
    "    print('Conceito é C')\n",
    "    print('Aprovado')\n",
    "elif media >= 4.0 and media < 6.0:\n",
    "    print('Nota um ', n1)\n",
    "    print('Nota dois ',n2)\n",
    "    print('Média ', media)\n",
    "    print('Conceito é D')\n",
    "    print('Reprovado')\n",
    "else:\n",
    "    print('Nota um ', n1)\n",
    "    print('Nota dois ',n2)\n",
    "    print('Média ', media)\n",
    "    print('Conceito é E')\n",
    "    print('Reprovado')"
   ]
  },
  {
   "cell_type": "markdown",
   "metadata": {},
   "source": [
    "9)Faça um programa que calcule as raízes de uma equação do segundo grau, na forma ax2 + bx + c. O programa deverá pedir os valores de a, b e c e fazer as consistências, informando ao usuário nas seguintes situações:\n",
    "\n",
    "Se o usuário informar o valor de A igual a zero, a equação não é do segundo grau e o programa não deve fazer pedir os demais valores, sendo encerrado;\n",
    "Se o delta calculado for negativo, a equação não possui raizes reais. Informe ao usuário e encerre o programa;\n",
    "Se o delta calculado for igual a zero a equação possui apenas uma raiz real; informe-a ao usuário;\n",
    "Se o delta for positivo, a equação possui duas raiz reais; informeas ao usuário;"
   ]
  },
  {
   "cell_type": "code",
   "execution_count": null,
   "metadata": {},
   "outputs": [],
   "source": [
    "a = float(input(\"Digite o valor de a: \"))\n",
    "\n",
    "if(a != 0):\n",
    "   b = float(input(\"Digite o valor de b: \"))\n",
    "   c = float(input(\"Digite o valor de c: \"))\n",
    "   delta = (b**2) - 4 * a * c\n",
    "   if(delta < 0):\n",
    "       print(\"O delta deu negativo, não existe raizes\")\n",
    "   elif(delta==0):\n",
    "       x = (-b + (delta ** (1/2))/(2*a)\n",
    "       print(\"O delta deu igual à 0(ZERO) então possui apenas uma raíz, a raiz é: \", x)\n",
    "   else:\n",
    "        x1 = (-b+(delta ** (1/2))/(2*a)\n",
    "        x2 = (-b-(delta ** (1/2))/(2*a)\n",
    "        print(\"x1 = \",x1, \"x2\",x2)\n",
    "        \n",
    "else:\n",
    "    print(\"O valor de a não pode ser 0 (ZERO)\")"
   ]
  },
  {
   "cell_type": "markdown",
   "metadata": {},
   "source": [
    "11)Faça um programa que faça 5 perguntas para uma pessoa sobre um crime. As perguntas são: \"Telefonou para a vítima?\" \"Esteve no local do crime?\" \"Mora perto da vítima?\" \"Devia para a vítima?\" \"Já trabalhou com a vítima?\" O programa deve no fnal emitir uma classifcação sobre a participação da pessoa no crime. Se a pessoa responder positivamente a 2 questões ela deve ser classifcada como \"Suspeita\", entre 3 e 4 como \"Cúmplice\" e 5 como \"Assassino\". Caso contrário, ele será classifcado como \"Inocente\".\n"
   ]
  },
  {
   "cell_type": "code",
   "execution_count": null,
   "metadata": {},
   "outputs": [],
   "source": [
    "um = input('Telefonou para a vitima? ')\n",
    "dois = input('Esteve no local do crime? ')\n",
    "tres = input('Mora perto da vitima? ')\n",
    "quatro = input('Devia para a vitima? ')\n",
    "cinco = input('Já trabalhou com a vitima? ')\n",
    "classificacao = 0\n",
    "\n",
    "if um == 'sim':\n",
    "    classificacao = classificacao + 1\n",
    "if dois == 'sim':\n",
    "    classificacao = classificacao + 1\n",
    "if tres == 'sim':\n",
    "    classificacao = classificacao + 1\n",
    "if quatro == 'sim':\n",
    "    classificacao = classificacao + 1\n",
    "if cinco == 'sim':\n",
    "    classificacao = classificacao + 1\n",
    "if classificacao == 2:\n",
    "    print('Voce é suspeito(a) ')\n",
    "    print(classificacao)\n",
    "elif classificacao >= 3 and classificacao <= 4:\n",
    "    print('Voce é cumplice')\n",
    "    print(classificacao)\n",
    "elif classificacao == 5:\n",
    "    print('Voce é o assassino')\n",
    "    print(classificacao)\n",
    "else:\n",
    "    print('Voce é inocente jovem')\n",
    "    print(classificacao)"
   ]
  },
  {
   "cell_type": "markdown",
   "metadata": {},
   "source": [
    "13) Faça um programa que peça uma nota, entre zero e dez. Mostre uma mensagem caso o valor seja inválido e continue pedindo até que o usuário informe um valor válido.\n"
   ]
  },
  {
   "cell_type": "code",
   "execution_count": null,
   "metadata": {},
   "outputs": [],
   "source": [
    "nota = float(input(\"Digite uma nota entre 0(ZERO) e 10: \"))\n",
    "if((nota>= 0) and (nota <= 10)):\n",
    "    print(\"nota:\", nota)\n",
    "else:\n",
    "    while True:\n",
    "        nota = float(input(\"Valor inválido! Digite de novo um valor entre 0(ZERO) e 10: \"))\n",
    "        if((nota>= 0) and (nota <= 10)):\n",
    "            print(\"nota:\", nota)\n",
    "            break"
   ]
  },
  {
   "cell_type": "markdown",
   "metadata": {},
   "source": [
    "15)Faça um programa que leia 5 números e informe a soma e a média dos números."
   ]
  },
  {
   "cell_type": "code",
   "execution_count": null,
   "metadata": {},
   "outputs": [],
   "source": [
    "x = 0\n",
    "list_sum = 0\n",
    "lista = []\n",
    "while x < 5:\n",
    "    z = int(input('Digite o valor '))\n",
    "    lista.append(z)\n",
    "    x = x + 1\n",
    "    \n",
    "for num in lista:\n",
    "    list_sum += num\n",
    "    media = list_sum / 5\n",
    "print(f'A soma é {list_sum}')\n",
    "print(f'A media é {media}')"
   ]
  },
  {
   "cell_type": "markdown",
   "metadata": {},
   "source": [
    "17) Desenvolva um gerador de tabuada, capaz de gerar a tabuada de qualquer número inteiro entre 1 a 10. O usuário deve informar de qual numero ele deseja ver a tabuada. A saída deve ser conforme o exemplo abaixo: Tabuada de 5: 5 X 1 = 5 5 X 2 = 10 ... 5 X 10 = 50\n"
   ]
  },
  {
   "cell_type": "code",
   "execution_count": null,
   "metadata": {},
   "outputs": [],
   "source": [
    "n = int(input(\"Digite o valor da tabuada: \"))\n",
    "x = 1\n",
    "while x <= 10:\n",
    "     print(n,'X',x, '=', n*x)\n",
    "     x = x + 1"
   ]
  },
  {
   "cell_type": "markdown",
   "metadata": {},
   "source": [
    "19)Faça um programa que calcule o fatorial de um número inteiro fornecido pelo usuário. Ex.: 5!=5.4.3.2.1=120\n"
   ]
  },
  {
   "cell_type": "code",
   "execution_count": null,
   "metadata": {},
   "outputs": [],
   "source": [
    "\n",
    "n = int(input(\"Digite o valor de n: \"))\n",
    " \n",
    " \n",
    "fatorial = 1\n",
    " \n",
    "while (n > 0):\n",
    "    fatorial = fatorial * n\n",
    "    n -= 1\n",
    " \n",
    "print(fatorial)"
   ]
  },
  {
   "cell_type": "markdown",
   "metadata": {},
   "source": [
    "21) O Sr. Manoel Joaquim acaba de adquirir uma panifcadora e pretende implantar a metodologia da tabelinha, que já é um sucesso na sua loja de 1,99. Você foi contratado para desenvolver o programa que monta a tabela de preços de pães, de 1 até 50 pães, a partir do preço do pão informado pelo usuário, conforme o exemplo abaixo:\n",
    "\n",
    "Preço do pão: R 0.18PanificadoraPãodeOntem−Tabeladepreços1−R  0.18 2 - R 0.36...50−R  9.00\n",
    "\n"
   ]
  },
  {
   "cell_type": "code",
   "execution_count": null,
   "metadata": {},
   "outputs": [],
   "source": [
    "precoDoPao = float(input(\"Digite o preço: \"))\n",
    "x = 0\n",
    "z = 0\n",
    "precoDoPaoUnidade = 0.18\n",
    "lista = []\n",
    "while x < 50:\n",
    "    z = z + 1\n",
    "    lista.append(z)\n",
    "    x = x + 1\n",
    "for num in lista:\n",
    "        print(f'{num} - R$', round(precoDoPaoUnidade, 2))\n",
    "        precoDoPaoUnidade += 0.18\n",
    "qntDoPao = int(precoDoPao / 0.18)\n",
    "print(\"Quantidade de pães:\", qntDoPao)"
   ]
  },
  {
   "cell_type": "markdown",
   "metadata": {},
   "source": [
    "23. Foi feita uma estatística em cinco cidades brasileiras para coletar dados sobre acidentes de trânsito. Foram obtidos os seguintes dados: - Código da cidade; - Número de veículos de passeio (em 1999); - Número de acidentes de trânsito com vítimas (em 1999). Desejase saber: - Qual o maior e menor índice de acidentes de transito e a que cidade pertence; - Qual a média de veículos nas cinco cidades juntas; - Qual a média de acidentes de trânsito nas cidades com menos de 2.000 veículos de passeio.  "
   ]
  },
  {
   "cell_type": "code",
   "execution_count": null,
   "metadata": {},
   "outputs": [],
   "source": [
    "dict = {\"São Paulo\":1, \"Santos\": 2, \"Guarulhos\": 3, \"Santo André\": 4, \"Sorocaba\": 5} \n",
    "listaAcidentes = [5000, 3000, 2000, 1000, 100000] \n",
    "listaVeiculos = [200000, 54000, 140000, 25000, 64000] \n",
    "maxAcidentes = max(listaAcidentes) \n",
    "maxVeiculos = max(listaVeiculos) \n",
    "minAcidentes = min(listaAcidentes) \n",
    "minVeiculos = min(listaVeiculos) \n",
    "if maxAcidentes == 5000: \n",
    "    print(\"O maior índice é de São Paulo com 5000\") \n",
    "elif maxAcidentes == 3000: \n",
    "    print(\"O maior índice é de Santos com 3000\") \n",
    "elif maxAcidentes == 2000: \n",
    "    print(\"O maior índice é de Santo André com 2000\") \n",
    "else: \n",
    "    print(\"O maior índice é de Guarulhos com 10000\") \n",
    "if minAcidentes == 5000: \n",
    "    print(\"O menor índice é de São Paulo com 5000\") \n",
    "elif minAcidentes == 3000: \n",
    "    print(\"O menor índice é de Santos com 3000\") \n",
    "elif minAcidentes == 2000: \n",
    "    print(\"O menor índice é de Santo André com 2000\") \n",
    "else: \n",
    "    print(\"O menor índice é de Guarulhos com 10000\") \n",
    "listaVeiculosMenor2000 = [] \n",
    "for x in listaVeiculos: \n",
    "    if x < 2000: \n",
    "        listaVeiculosMenor2000.append(x) \n",
    "        med = sum(listaVeiculosMenor2000) / len(listaVeiculosMenor2000) \n",
    "        print(med)"
   ]
  },
  {
   "cell_type": "markdown",
   "metadata": {},
   "source": [
    "25. Faça um programa que mostre os n termos da Série a seguir: S = 1/1 + 2/3 + 3/5 + 4/7 + 5/9 + ... + n/m. Imprima no fnal a soma da série."
   ]
  },
  {
   "cell_type": "code",
   "execution_count": null,
   "metadata": {},
   "outputs": [],
   "source": [
    "s = 0 \n",
    "s = 10 \n",
    "sCount = 0 \n",
    "n = 0 m = 0 \n",
    "m = 1 \n",
    "while sCount < s: \n",
    "    n += 1 m += 2 \n",
    "    som = n/m \n",
    "    s += som \n",
    "    sCount += 1 \n",
    "print(s)"
   ]
  }
 ],
 "metadata": {
  "kernelspec": {
   "display_name": "Python 3",
   "language": "python",
   "name": "python3"
  },
  "language_info": {
   "codemirror_mode": {
    "name": "ipython",
    "version": 3
   },
   "file_extension": ".py",
   "mimetype": "text/x-python",
   "name": "python",
   "nbconvert_exporter": "python",
   "pygments_lexer": "ipython3",
   "version": "3.6.5"
  }
 },
 "nbformat": 4,
 "nbformat_minor": 2
}
