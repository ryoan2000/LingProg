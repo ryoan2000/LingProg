{
 "cells": [
  {
   "cell_type": "markdown",
   "metadata": {},
   "source": [
    "1 Defna a função somannat que recebe como argumento um número natural n\n",
    " e devolve a soma de todos os números naturais até n.\n",
    "Ex: somannat(5) = 15"
   ]
  },
  {
   "cell_type": "code",
   "execution_count": null,
   "metadata": {},
   "outputs": [],
   "source": [
    "def soma_nat(n):\n",
    "    return 1 if n ==1 else n + soma_nat(n-1)\n",
    "\n",
    "soma = soma_nat(5)\n",
    "print(soma)"
   ]
  },
  {
   "cell_type": "markdown",
   "metadata": {},
   "source": [
    "2 Defna a função div que recebe como argumentos dois números naturais m\n",
    " e n e devolve o resultado da divisão inteira de m por n. Neste exercício você não\n",
    "pode recorrer às operações aritmétcas de multplicação, divisão e resto da divisão\n",
    "inteira.\n",
    "Ex: div(7,2) = 3"
   ]
  },
  {
   "cell_type": "code",
   "execution_count": null,
   "metadata": {},
   "outputs": [],
   "source": [
    "def div(dividendo, divisor):\n",
    "    return 0 if divisor > dividendo else 1 + div (dividendo - divisor, divisor)\n",
    "\n",
    "print(div(5,2))\n",
    "print(div(5,6))"
   ]
  },
  {
   "cell_type": "markdown",
   "metadata": {},
   "source": [
    "3 Defna a função primnalg que recebe como argumento um número natural e\n",
    "devolve o primeiro algarismo (o mais signifcatvo) na representação decimal de n.\n",
    "Ex: primnalg(5649) = 5\n",
    "Ex: primnalg(7) = 7"
   ]
  },
  {
   "cell_type": "code",
   "execution_count": null,
   "metadata": {},
   "outputs": [],
   "source": [
    "def prim_alg(n):\n",
    "    return n if n < 10 else prim_alg(n//10)\n",
    "print(prim_alg(5649))"
   ]
  },
  {
   "cell_type": "markdown",
   "metadata": {},
   "source": [
    "4 Defna a função prodnlista que recebe como argumento uma lista de inteiros e\n",
    "devolve o produto dos seus elementos.\n",
    "Ex: prodnlista([1,2,3,4,5,6]) = 720"
   ]
  },
  {
   "cell_type": "code",
   "execution_count": null,
   "metadata": {},
   "outputs": [],
   "source": [
    "def prod_lista(n):\n",
    "    return n[0] if len(n) == 1 else n[0] * prod_lista(n[1:])\n",
    "print(prod_lista([1,2,3,4,5,6]))"
   ]
  },
  {
   "cell_type": "markdown",
   "metadata": {},
   "source": [
    "5 Defna a função contemnparQ que recebe como argumento uma lista de números\n",
    "inteiros w e devolve True se w contém um número par e False em caso contrário.\n",
    "Ex: contemnparQ([2,3,1,2,3,4]) = True\n",
    "Ex: contemnparQ([1,3,5,7]) = False\n"
   ]
  },
  {
   "cell_type": "code",
   "execution_count": null,
   "metadata": {},
   "outputs": [],
   "source": [
    "def contem_parQ(n):\n",
    "    lis = []\n",
    "    if len(n) > 0:\n",
    "        numero = n.pop(0)\n",
    "        if numero % 2 == 0:\n",
    "            lis.append(numero)\n",
    "        lis = lis + contem_parQ(n)\n",
    "    return lis\n",
    "if contem_parQ([1,2,3,4,5,6])[0] % 2 == 0:\n",
    "    print('true')\n",
    "else:\n",
    "    print('false')"
   ]
  },
  {
   "cell_type": "markdown",
   "metadata": {},
   "source": [
    "6 Defna a função todosnimparesQ que recebe como argumento uma lista de\n",
    "números inteiros w e devolve True se w contém apenas números ímpares e False\n",
    "em caso contrário.\n",
    "Ex: todosnimparesQ([1,3,5,7]) = True\n",
    "Ex: todosnimparesQ([]) = True\n",
    "Ex: todosnimparesQ([1,2,3,4,5]) = False\n"
   ]
  },
  {
   "cell_type": "code",
   "execution_count": null,
   "metadata": {},
   "outputs": [],
   "source": [
    "def contem_imparesQ(n, i=0):\n",
    "    if len(n) == 1:\n",
    "        if n[0] % 2 == 0:\n",
    "            return False\n",
    "        else:\n",
    "            return True\n",
    "    if i == len(n)-1:\n",
    "        if n[len(n)] %2 == 0:\n",
    "            return False\n",
    "        else:\n",
    "            return True\n",
    "    if n[i] % 2 != 0:\n",
    "        return True\n",
    "    return contem_imparesQ(n,i+1) \n",
    "print(contem_imparesQ([4,2,3,4]))"
   ]
  }
 ],
 "metadata": {
  "kernelspec": {
   "display_name": "Python 3",
   "language": "python",
   "name": "python3"
  },
  "language_info": {
   "codemirror_mode": {
    "name": "ipython",
    "version": 3
   },
   "file_extension": ".py",
   "mimetype": "text/x-python",
   "name": "python",
   "nbconvert_exporter": "python",
   "pygments_lexer": "ipython3",
   "version": "3.6.5"
  }
 },
 "nbformat": 4,
 "nbformat_minor": 2
}
